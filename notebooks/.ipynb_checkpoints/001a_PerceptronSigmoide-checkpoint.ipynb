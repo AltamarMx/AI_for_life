{
 "cells": [
  {
   "cell_type": "code",
   "execution_count": 1,
   "id": "8e5270d8",
   "metadata": {},
   "outputs": [],
   "source": [
    "import numpy as np\n",
    "import matplotlib.pyplot as plt"
   ]
  },
  {
   "cell_type": "markdown",
   "id": "2c4611e2",
   "metadata": {},
   "source": [
    "Sabemos que:\n",
    "\n",
    "$$ x_{1}w_{1}+x_{2}w_{2}+...+bias=h $$"
   ]
  },
  {
   "cell_type": "code",
   "execution_count": 34,
   "id": "74977f2c",
   "metadata": {},
   "outputs": [],
   "source": [
    "x = np.array([5,2])\n",
    "w = np.array([1,0])\n",
    "b = 1"
   ]
  },
  {
   "cell_type": "code",
   "execution_count": 35,
   "id": "397ba146",
   "metadata": {},
   "outputs": [],
   "source": [
    "def data(x,w,b):\n",
    "    return np.dot(x,w)+b\n",
    "    \n",
    "def sigmoide(z):\n",
    "    return (1)/(1+np.exp(-z))\n",
    "\n",
    "def cost(sig,Y):\n",
    "    return (sig-Y)**2\n",
    "\n",
    "def gradient(sig,Y):\n",
    "    return 2*(sig-Y)*sig*(1*sig)"
   ]
  },
  {
   "cell_type": "code",
   "execution_count": 36,
   "id": "95e8fcd2",
   "metadata": {},
   "outputs": [],
   "source": [
    "epocs = 100\n",
    "LR    = 0.01\n",
    "Y     = 0.71\n",
    "\n",
    "for i in range(epocs):\n",
    "    h = sigmoide(data(x,w,b))\n",
    "    c = cost(h,Y)\n",
    "    g = gradient(h,Y)\n",
    "    \n",
    "    h = h - LR*g"
   ]
  },
  {
   "cell_type": "code",
   "execution_count": 37,
   "id": "da3c4fb1",
   "metadata": {},
   "outputs": [
    {
     "data": {
      "text/plain": [
       "0.9918052320224311"
      ]
     },
     "execution_count": 37,
     "metadata": {},
     "output_type": "execute_result"
    }
   ],
   "source": [
    "h"
   ]
  },
  {
   "cell_type": "code",
   "execution_count": null,
   "id": "e69a8bbe",
   "metadata": {},
   "outputs": [],
   "source": []
  }
 ],
 "metadata": {
  "kernelspec": {
   "display_name": "Python 3",
   "language": "python",
   "name": "python3"
  },
  "language_info": {
   "codemirror_mode": {
    "name": "ipython",
    "version": 3
   },
   "file_extension": ".py",
   "mimetype": "text/x-python",
   "name": "python",
   "nbconvert_exporter": "python",
   "pygments_lexer": "ipython3",
   "version": "3.9.4"
  }
 },
 "nbformat": 4,
 "nbformat_minor": 5
}
