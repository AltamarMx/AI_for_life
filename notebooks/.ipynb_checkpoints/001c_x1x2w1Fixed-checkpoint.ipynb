{
 "cells": [
  {
   "cell_type": "code",
   "execution_count": 1,
   "id": "0feca069",
   "metadata": {},
   "outputs": [],
   "source": [
    "import numpy as np"
   ]
  },
  {
   "cell_type": "code",
   "execution_count": 9,
   "id": "801d7a1e",
   "metadata": {},
   "outputs": [],
   "source": [
    "# Definción de funciones\n",
    "def data(x,w,b):\n",
    "    return np.dot(x,w)+b\n",
    "    \n",
    "def sigmoide(z):\n",
    "    return (1)/(1+np.exp(-z))\n",
    "\n",
    "def sigmoide_2d(x1,x2,w1,w2,b):\n",
    "    return (1)/(1+np.exp( -(x1*w1 + x2*w2 + b) ))\n",
    "\n",
    "def cost(h,Y):\n",
    "    return (h-Y)**2\n",
    "\n",
    "def gradient(y,Y):\n",
    "    return 2*(y-Y)*y*(1-y)"
   ]
  },
  {
   "cell_type": "code",
   "execution_count": 26,
   "id": "3aa95284",
   "metadata": {},
   "outputs": [
    {
     "name": "stdout",
     "output_type": "stream",
     "text": [
      "2.924 0.700147428609537\n"
     ]
    }
   ],
   "source": [
    "x1 = 1\n",
    "x2 = 2\n",
    "w1 = -5\n",
    "b  = 0\n",
    "\n",
    "for i in np.arange(0,20,0.001):\n",
    "    w2     = i\n",
    "    result = sigmoide_2d(x1,x2,w1,w2,b)\n",
    "    if (abs(result - 0.71))<0.01:\n",
    "        print(w2,result)\n",
    "        break"
   ]
  },
  {
   "cell_type": "code",
   "execution_count": null,
   "id": "6a6905f0",
   "metadata": {},
   "outputs": [],
   "source": []
  }
 ],
 "metadata": {
  "kernelspec": {
   "display_name": "Python 3",
   "language": "python",
   "name": "python3"
  },
  "language_info": {
   "codemirror_mode": {
    "name": "ipython",
    "version": 3
   },
   "file_extension": ".py",
   "mimetype": "text/x-python",
   "name": "python",
   "nbconvert_exporter": "python",
   "pygments_lexer": "ipython3",
   "version": "3.9.4"
  }
 },
 "nbformat": 4,
 "nbformat_minor": 5
}
