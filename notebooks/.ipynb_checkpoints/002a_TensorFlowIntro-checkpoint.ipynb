{
 "cells": [
  {
   "cell_type": "code",
   "execution_count": 1,
   "metadata": {},
   "outputs": [],
   "source": [
    "import tensorflow as tf\n",
    "from tensorflow import keras\n",
    "from tqdm.keras import TqdmCallback"
   ]
  },
  {
   "cell_type": "code",
   "execution_count": 2,
   "metadata": {
    "scrolled": false
   },
   "outputs": [
    {
     "name": "stdout",
     "output_type": "stream",
     "text": [
      "Model: \"model\"\n",
      "_________________________________________________________________\n",
      " Layer (type)                Output Shape              Param #   \n",
      "=================================================================\n",
      " input (InputLayer)          [(None, 2)]               0         \n",
      "                                                                 \n",
      " hidden (Dense)              (None, 1)                 3         \n",
      "                                                                 \n",
      " output (Dense)              (None, 1)                 2         \n",
      "                                                                 \n",
      "=================================================================\n",
      "Total params: 5\n",
      "Trainable params: 5\n",
      "Non-trainable params: 0\n",
      "_________________________________________________________________\n"
     ]
    }
   ],
   "source": [
    "# creating layers\n",
    "inputs = tf.keras.Input(shape=(2,), name='input')\n",
    "hidden = tf.keras.layers.Dense(1, activation='sigmoid', name='hidden')(inputs)\n",
    "output = tf.keras.layers.Dense(1, activation='sigmoid', name='output')(hidden)\n",
    "# creating the model\n",
    "model  = keras.Model(inputs, output, name='model')\n",
    "# making copies of the model\n",
    "nadam = tf.keras.models.clone_model(model)\n",
    "adam  = tf.keras.models.clone_model(model)\n",
    "sgd   = tf.keras.models.clone_model(model)\n",
    "\n",
    "model.summary()"
   ]
  },
  {
   "cell_type": "markdown",
<<<<<<< HEAD
   "id": "773f91e7",
=======
>>>>>>> 6255f02b9129688cce88ebec7f32af229e4326c1
   "metadata": {},
   "source": [
    "### NAdam"
   ]
  },
  {
   "cell_type": "code",
   "execution_count": 3,
   "metadata": {},
   "outputs": [
    {
     "data": {
      "application/vnd.jupyter.widget-view+json": {
       "model_id": "44f9c223ea3a41858c0fd53fe3ff7502",
       "version_major": 2,
       "version_minor": 0
      },
      "text/plain": [
       "HBox(children=(HTML(value=''), FloatProgress(value=1.0, bar_style='info', layout=Layout(width='20px'), max=1.0…"
      ]
     },
     "metadata": {},
     "output_type": "display_data"
    },
    {
     "data": {
      "application/vnd.jupyter.widget-view+json": {
       "model_id": "",
       "version_major": 2,
       "version_minor": 0
      },
      "text/plain": [
       "HBox(children=(HTML(value=''), FloatProgress(value=1.0, bar_style='info', layout=Layout(width='20px'), max=1.0…"
      ]
     },
     "metadata": {},
     "output_type": "display_data"
    },
    {
     "name": "stdout",
     "output_type": "stream",
     "text": [
      "\n",
      "1/1 [==============================] - 0s 80ms/step\n"
     ]
    },
    {
     "data": {
      "text/plain": [
       "array([[0.6974847]], dtype=float32)"
      ]
     },
     "execution_count": 3,
     "metadata": {},
     "output_type": "execute_result"
    }
   ],
   "source": [
    "# compiling the model\n",
    "optimizer = tf.keras.optimizers.Nadam(learning_rate=0.1)\n",
    "loss      = tf.keras.losses.MeanSquaredError()\n",
    "model.compile(optimizer, loss, metrics=['mae'])\n",
    "model.fit([[1,2]], [0.71], epochs=15, verbose=0, callbacks=[TqdmCallback(verbose=1)])\n",
    "model.predict([[1,2]])"
   ]
  },
  {
   "cell_type": "markdown",
<<<<<<< HEAD
   "id": "8a942ee9",
=======
>>>>>>> 6255f02b9129688cce88ebec7f32af229e4326c1
   "metadata": {},
   "source": [
    "### Adam"
   ]
  },
  {
   "cell_type": "code",
   "execution_count": 4,
<<<<<<< HEAD
   "id": "467e174d",
=======
>>>>>>> 6255f02b9129688cce88ebec7f32af229e4326c1
   "metadata": {},
   "outputs": [
    {
     "data": {
      "application/vnd.jupyter.widget-view+json": {
       "model_id": "809577dbe23543ecb43ba2ae477a9294",
       "version_major": 2,
       "version_minor": 0
      },
      "text/plain": [
       "HBox(children=(HTML(value=''), FloatProgress(value=1.0, bar_style='info', layout=Layout(width='20px'), max=1.0…"
      ]
     },
     "metadata": {},
     "output_type": "display_data"
    },
    {
     "data": {
      "application/vnd.jupyter.widget-view+json": {
       "model_id": "",
       "version_major": 2,
       "version_minor": 0
      },
      "text/plain": [
       "HBox(children=(HTML(value=''), FloatProgress(value=1.0, bar_style='info', layout=Layout(width='20px'), max=1.0…"
      ]
     },
     "metadata": {},
     "output_type": "display_data"
    },
    {
     "name": "stdout",
     "output_type": "stream",
     "text": [
      "\n",
      "1/1 [==============================] - 0s 54ms/step\n"
     ]
    },
    {
     "data": {
      "text/plain": [
       "array([[0.67624134]], dtype=float32)"
      ]
     },
     "execution_count": 4,
     "metadata": {},
     "output_type": "execute_result"
    }
   ],
   "source": [
    "# compiling the model\n",
    "optimizer = tf.keras.optimizers.Adam(learning_rate=0.1)\n",
    "loss      = tf.keras.losses.MeanSquaredError()\n",
    "adam.compile(optimizer, loss, metrics=['mae'])\n",
    "adam.fit([[1,2]], [0.71],epochs=15, verbose=0, callbacks=[TqdmCallback(verbose=1)])\n",
    "adam.predict([[1,2]])"
   ]
  },
  {
   "cell_type": "markdown",
<<<<<<< HEAD
   "id": "f18c4d86",
=======
>>>>>>> 6255f02b9129688cce88ebec7f32af229e4326c1
   "metadata": {},
   "source": [
    "### Stochastic Gradient Descent"
   ]
  },
  {
   "cell_type": "code",
   "execution_count": 5,
<<<<<<< HEAD
   "id": "f45d7194",
=======
>>>>>>> 6255f02b9129688cce88ebec7f32af229e4326c1
   "metadata": {},
   "outputs": [
    {
     "data": {
      "application/vnd.jupyter.widget-view+json": {
       "model_id": "3c01e74dbba04e6fbb391b506be1c524",
       "version_major": 2,
       "version_minor": 0
      },
      "text/plain": [
       "HBox(children=(HTML(value=''), FloatProgress(value=1.0, bar_style='info', layout=Layout(width='20px'), max=1.0…"
      ]
     },
     "metadata": {},
     "output_type": "display_data"
    },
    {
     "data": {
      "application/vnd.jupyter.widget-view+json": {
       "model_id": "",
       "version_major": 2,
       "version_minor": 0
      },
      "text/plain": [
       "HBox(children=(HTML(value=''), FloatProgress(value=1.0, bar_style='info', layout=Layout(width='20px'), max=1.0…"
      ]
     },
     "metadata": {},
     "output_type": "display_data"
    },
    {
     "name": "stdout",
     "output_type": "stream",
     "text": [
      "\n",
      "1/1 [==============================] - 0s 57ms/step\n"
     ]
    },
    {
     "data": {
      "text/plain": [
       "array([[0.35472926]], dtype=float32)"
      ]
     },
     "execution_count": 5,
     "metadata": {},
     "output_type": "execute_result"
    }
   ],
   "source": [
    "# compiling the model\n",
    "optimizer = tf.keras.optimizers.SGD(learning_rate=0.1)\n",
    "loss      = tf.keras.losses.MeanSquaredError()\n",
    "sgd.compile(optimizer, loss, metrics=['mae'])\n",
    "sgd.fit([[1,2]], [0.71],epochs=15, verbose=0, callbacks=[TqdmCallback(verbose=1)])\n",
    "sgd.predict([[1,2]])"
   ]
  },
  {
   "cell_type": "code",
   "execution_count": 6,
   "metadata": {},
   "outputs": [
    {
     "name": "stdout",
     "output_type": "stream",
     "text": [
      "1/1 [==============================] - 0s 33ms/step\n",
      "nadam [[0.6974847]]\n",
      "1/1 [==============================] - 0s 32ms/step\n",
      "sgd [[0.35472926]]\n",
      "1/1 [==============================] - 0s 31ms/step\n",
      "adam [[0.67624134]]\n"
     ]
    }
   ],
   "source": [
    "print('nadam',model.predict([[1,2]]))\n",
    "print('sgd',sgd.predict([[1,2]]))\n",
    "print('adam',adam.predict([[1,2]]))"
   ]
  },
  {
   "cell_type": "code",
   "execution_count": null,
<<<<<<< HEAD
   "id": "e501a253",
=======
>>>>>>> 6255f02b9129688cce88ebec7f32af229e4326c1
   "metadata": {},
   "outputs": [],
   "source": []
  }
 ],
 "metadata": {
  "kernelspec": {
   "display_name": "Python 3",
   "language": "python",
   "name": "python3"
  },
  "language_info": {
   "codemirror_mode": {
    "name": "ipython",
    "version": 3
   },
   "file_extension": ".py",
   "mimetype": "text/x-python",
   "name": "python",
   "nbconvert_exporter": "python",
   "pygments_lexer": "ipython3",
   "version": "3.8.5"
  }
 },
 "nbformat": 4,
 "nbformat_minor": 5
}
