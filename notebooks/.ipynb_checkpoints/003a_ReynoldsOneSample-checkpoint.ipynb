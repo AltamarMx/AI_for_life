{
 "cells": [
  {
   "cell_type": "code",
   "execution_count": 1,
   "id": "6de7aefb",
   "metadata": {},
   "outputs": [],
   "source": [
    "import tensorflow as tf\n",
    "from tensorflow import keras\n",
    "from tqdm.keras import TqdmCallback\n",
    "import numpy as np\n",
    "import matplotlib.pyplot as plt"
   ]
  },
  {
   "cell_type": "code",
   "execution_count": 2,
   "id": "43ff7837",
   "metadata": {},
   "outputs": [],
   "source": [
    "def poiseuille(R=1,dpdx=-0.01,nu=0.01,Nr=100,figure=True):\n",
    "  \n",
    "    r = np.linspace(-R,R,Nr)\n",
    "    u = -1/4/nu *dpdx*(R**2-r**2)\n",
    "    if figure:\n",
    "        fig, ax = plt.subplots(figsize=(10,4))\n",
    "        ax.scatter(r,u)\n",
    "        ax.set_ylabel(\"u [m/s]\")\n",
    "        ax.set_xlabel(\"r [m]\")\n",
    "    umax = -1/4/nu*dpdx*R*R\n",
    "    Re = umax*2*R/nu\n",
    "    return Re,r,u"
   ]
  },
  {
   "cell_type": "code",
   "execution_count": 3,
   "id": "fd0bf068",
   "metadata": {
    "scrolled": true
   },
   "outputs": [
    {
     "data": {
      "image/png": "[encoded data removed]",
      "text/plain": [
       "<Figure size 720x288 with 1 Axes>"
      ]
     },
     "metadata": {
      "needs_background": "light"
     },
     "output_type": "display_data"
    }
   ],
   "source": [
    "Re, r, u = poiseuille(R=1,dpdx=-0.01,nu=0.01,Nr=11,figure=True)"
   ]
  },
  {
   "cell_type": "code",
   "execution_count": 4,
   "id": "881ec97a",
   "metadata": {},
   "outputs": [],
   "source": [
    "# converting to array the lists ans scaling\n",
    "Reyn = np.array([Re])\n",
    "reys = Reyn/Reyn.max()\n",
    "u_p  = np.array([u])\n",
    "u_s  = u_p/u_p.max()"
   ]
  },
  {
   "cell_type": "code",
   "execution_count": 5,
   "id": "72693397",
   "metadata": {},
   "outputs": [
    {
     "data": {
      "text/plain": [
       "(1,)"
      ]
     },
     "execution_count": 5,
     "metadata": {},
     "output_type": "execute_result"
    }
   ],
   "source": [
    "np.shape(Reyn)"
   ]
  },
  {
   "cell_type": "code",
   "execution_count": 6,
   "id": "1b055510",
   "metadata": {},
   "outputs": [
    {
     "data": {
      "text/plain": [
       "(1, 11)"
      ]
     },
     "execution_count": 6,
     "metadata": {},
     "output_type": "execute_result"
    }
   ],
   "source": [
    "np.shape(u_p)"
   ]
  },
  {
   "cell_type": "code",
   "execution_count": 7,
   "id": "e1a988b1",
   "metadata": {},
   "outputs": [
    {
     "name": "stdout",
     "output_type": "stream",
     "text": [
      "Model: \"model\"\n",
      "_________________________________________________________________\n",
      " Layer (type)                Output Shape              Param #   \n",
      "=================================================================\n",
      " input (InputLayer)          [(None, 1)]               0         \n",
      "                                                                 \n",
      " hidden_1 (Dense)            (None, 16)                32        \n",
      "                                                                 \n",
      " output (Dense)              (None, 11)                187       \n",
      "                                                                 \n",
      "=================================================================\n",
      "Total params: 219\n",
      "Trainable params: 219\n",
      "Non-trainable params: 0\n",
      "_________________________________________________________________\n"
     ]
    }
   ],
   "source": [
    "# creating layers\n",
    "inputs = tf.keras.Input(shape=1, name='input')\n",
    "hidden = tf.keras.layers.Dense(16, activation='relu', \n",
    "                               use_bias=True, name='hidden_1')(inputs)\n",
    "output = tf.keras.layers.Dense(11, name='output')(hidden)\n",
    "# creating the model\n",
    "model  = keras.Model(inputs, output, name='model')\n",
    "# printing\n",
    "model.summary()"
   ]
  },
  {
   "cell_type": "code",
   "execution_count": 8,
   "id": "3a76bdae",
   "metadata": {
    "scrolled": true
   },
   "outputs": [
    {
     "data": {
      "application/vnd.jupyter.widget-view+json": {
       "model_id": "9cb0e7c663fd425cbe8ef487f5b53adb",
       "version_major": 2,
       "version_minor": 0
      },
      "text/plain": [
       "0epoch [00:00, ?epoch/s]"
      ]
     },
     "metadata": {},
     "output_type": "display_data"
    },
    {
     "data": {
      "application/vnd.jupyter.widget-view+json": {
       "model_id": "",
       "version_major": 2,
       "version_minor": 0
      },
      "text/plain": [
       "0batch [00:00, ?batch/s]"
      ]
     },
     "metadata": {},
     "output_type": "display_data"
    }
   ],
   "source": [
    "# compiling the model\n",
    "optimizer = tf.keras.optimizers.Adamax(learning_rate=0.01)\n",
    "loss      = tf.keras.losses.MeanSquaredError()\n",
    "model.compile(optimizer, loss, metrics=['mse'])\n",
    "fitting = model.fit(reys, u_s, epochs=100, verbose=0, callbacks=[TqdmCallback(verbose=1)])"
   ]
  },
  {
   "cell_type": "code",
   "execution_count": 9,
   "id": "2b707a8f",
   "metadata": {
    "scrolled": true
   },
   "outputs": [
    {
     "data": {
      "text/plain": [
       "[<matplotlib.lines.Line2D at 0x2037f469f40>]"
      ]
     },
     "execution_count": 9,
     "metadata": {},
     "output_type": "execute_result"
    },
    {
     "data": {
      "image/png": "[encoded data removed]",
      "text/plain": [
       "<Figure size 432x288 with 1 Axes>"
      ]
     },
     "metadata": {
      "needs_background": "light"
     },
     "output_type": "display_data"
    }
   ],
   "source": [
    "plt.plot(fitting.history['loss'])"
   ]
  },
  {
   "cell_type": "code",
   "execution_count": 10,
   "id": "cd464df2",
   "metadata": {
    "scrolled": true
   },
   "outputs": [
    {
     "name": "stdout",
     "output_type": "stream",
     "text": [
      "1/1 [==============================] - 0s 166ms/step\n"
     ]
    },
    {
     "data": {
      "text/plain": [
       "array([[ 1.5012920e-05,  8.9590333e-02,  1.5989411e-01,  2.0939393e-01,\n",
       "         2.3949881e-01,  2.5023979e-01,  2.4053743e-01,  2.0935005e-01,\n",
       "         1.6130653e-01,  9.0203144e-02, -1.1219084e-04]], dtype=float32)"
      ]
     },
     "execution_count": 10,
     "metadata": {},
     "output_type": "execute_result"
    }
   ],
   "source": [
    "test = model.predict(reys)\n",
    "perf = test*u_p.max()\n",
    "perf"
   ]
  },
  {
   "cell_type": "code",
   "execution_count": 11,
   "id": "7ac257af",
   "metadata": {},
   "outputs": [
    {
     "data": {
      "text/plain": [
       "(11,)"
      ]
     },
     "execution_count": 11,
     "metadata": {},
     "output_type": "execute_result"
    }
   ],
   "source": [
    "np.shape(perf[0])"
   ]
  },
  {
   "cell_type": "code",
   "execution_count": 13,
   "id": "c27119d2",
   "metadata": {},
   "outputs": [
    {
     "data": {
      "image/png": "[encoded data removed]",
      "text/plain": [
       "<Figure size 720x288 with 1 Axes>"
      ]
     },
     "metadata": {
      "needs_background": "light"
     },
     "output_type": "display_data"
    }
   ],
   "source": [
    "# plot\n",
    "fig, ax = plt.subplots(figsize=(10,4))\n",
    "\n",
    "ax.plot(r,u, label='orginal')\n",
    "ax.scatter(r,perf[0], label='train', color='orange')\n",
    "\n",
    "ax.set_xlabel('r')\n",
    "ax.set_ylabel('u')\n",
    "ax.legend()\n",
    "ax.grid()"
   ]
  },
  {
   "cell_type": "code",
   "execution_count": null,
   "id": "89b45c7f",
   "metadata": {},
   "outputs": [],
   "source": []
  }
 ],
 "metadata": {
  "kernelspec": {
   "display_name": "Python 3",
   "language": "python",
   "name": "python3"
  },
  "language_info": {
   "codemirror_mode": {
    "name": "ipython",
    "version": 3
   },
   "file_extension": ".py",
   "mimetype": "text/x-python",
   "name": "python",
   "nbconvert_exporter": "python",
   "pygments_lexer": "ipython3",
   "version": "3.9.4"
  }
 },
 "nbformat": 4,
 "nbformat_minor": 5
}
