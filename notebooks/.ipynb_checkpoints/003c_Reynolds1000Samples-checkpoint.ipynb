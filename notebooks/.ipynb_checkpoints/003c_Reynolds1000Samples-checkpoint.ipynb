{
 "cells": [
  {
   "cell_type": "code",
   "execution_count": 1,
   "id": "6de7aefb",
   "metadata": {},
   "outputs": [],
   "source": [
    "import tensorflow as tf\n",
    "from tensorflow import keras\n",
    "from tqdm.keras import TqdmCallback\n",
    "import numpy as np\n",
    "import matplotlib.pyplot as plt\n",
    "from sklearn.model_selection import train_test_split"
   ]
  },
  {
   "cell_type": "code",
   "execution_count": 2,
   "id": "43ff7837",
   "metadata": {},
   "outputs": [],
   "source": [
    "def poiseuille(R=1,dpdx=-0.01,nu=0.01,Nr=100,figure=True):\n",
    "  \n",
    "    r = np.linspace(-R,R,Nr)\n",
    "    u = -1/4/nu *dpdx*(R**2-r**2)\n",
    "    if figure:\n",
    "        fig, ax = plt.subplots(figsize=(10,4))\n",
    "        ax.scatter(r,u)\n",
    "        ax.set_ylabel(\"u [m/s]\")\n",
    "        ax.set_xlabel(\"r [m]\")\n",
    "    umax = -1/4/nu*dpdx*R*R\n",
    "    Re = umax*2*R/nu\n",
    "    return Re,r,u"
   ]
  },
  {
   "cell_type": "code",
   "execution_count": 3,
   "id": "fd0bf068",
   "metadata": {
    "scrolled": false
   },
   "outputs": [
    {
     "data": {
      "image/png": "[encoded data removed]",
      "text/plain": [
       "<Figure size 720x288 with 1 Axes>"
      ]
     },
     "metadata": {
      "needs_background": "light"
     },
     "output_type": "display_data"
    }
   ],
   "source": [
    "Re, r, u = poiseuille(R=1,dpdx=-0.01,nu=0.01,Nr=11,figure=True)"
   ]
  },
  {
   "cell_type": "code",
   "execution_count": 4,
   "id": "7d2f8144",
   "metadata": {},
   "outputs": [
    {
     "data": {
      "text/plain": [
       "50.0"
      ]
     },
     "execution_count": 4,
     "metadata": {},
     "output_type": "execute_result"
    }
   ],
   "source": [
    "Re"
   ]
  },
  {
   "cell_type": "code",
   "execution_count": 5,
   "id": "27094dce",
   "metadata": {},
   "outputs": [],
   "source": [
    "# making the samples\n",
    "rey   = []\n",
    "perf  = []\n",
    "rp    = []\n",
    "for presion in np.linspace(0,0.7,1000):\n",
    "    re, r, u = poiseuille(R=1,dpdx=-presion,nu=0.01,Nr=11,figure=False)\n",
    "    rey.append([re])\n",
    "    perf.append(u)\n",
    "    rp.append(r)\n",
    "# lists to array and scale\n",
    "reynolds_array = np.array(rey)\n",
    "reynolds_scale = reynolds_array/reynolds_array.max()\n",
    "profile_array  = np.array(perf)\n",
    "profile_scale  = profile_array/profile_array.max()\n",
    "# split test(0.2) and train(0.8) arrays\n",
    "train_reynolds, test_reynolds, train_profile, test_profile = train_test_split(reynolds_scale,\n",
    "                                                                              profile_scale,\n",
    "                                                                              train_size=0.8,\n",
    "                                                                              test_size=0.2)"
   ]
  },
  {
   "cell_type": "code",
   "execution_count": 6,
   "id": "1eff4c64",
   "metadata": {},
   "outputs": [
    {
     "data": {
      "text/plain": [
       "(800, 1)"
      ]
     },
     "execution_count": 6,
     "metadata": {},
     "output_type": "execute_result"
    }
   ],
   "source": [
    "np.shape(train_reynolds)"
   ]
  },
  {
   "cell_type": "code",
   "execution_count": 7,
   "id": "e1a988b1",
   "metadata": {},
   "outputs": [
    {
     "name": "stdout",
     "output_type": "stream",
     "text": [
      "Model: \"model\"\n",
      "_________________________________________________________________\n",
      " Layer (type)                Output Shape              Param #   \n",
      "=================================================================\n",
      " input (InputLayer)          [(None, 1)]               0         \n",
      "                                                                 \n",
      " hidden1 (Dense)             (None, 22)                44        \n",
      "                                                                 \n",
      " output (Dense)              (None, 11)                253       \n",
      "                                                                 \n",
      "=================================================================\n",
      "Total params: 297\n",
      "Trainable params: 297\n",
      "Non-trainable params: 0\n",
      "_________________________________________________________________\n"
     ]
    }
   ],
   "source": [
    "# creating layers\n",
    "inputs = tf.keras.Input(shape=1, name='input')\n",
    "hidden = tf.keras.layers.Dense(22, activation='relu', name='hidden1')(inputs)\n",
    "output = tf.keras.layers.Dense(11, name='output')(hidden)\n",
    "# creating the model\n",
    "model  = keras.Model(inputs, output, name='model')\n",
    "# printing\n",
    "model.summary()"
   ]
  },
  {
   "cell_type": "code",
   "execution_count": 8,
   "id": "3a76bdae",
   "metadata": {},
   "outputs": [],
   "source": [
    "# compiling the model\n",
    "optimizer = tf.keras.optimizers.Adamax(learning_rate=0.1)\n",
    "loss      = tf.keras.losses.MeanSquaredError()\n",
    "model.compile(optimizer, loss, metrics=['mae'])\n",
    "fitting = model.fit(train_reynolds, train_profile, batch_size=20, epochs=300, verbose=0)"
   ]
  },
  {
   "cell_type": "code",
   "execution_count": 9,
   "id": "6fc52ab2",
   "metadata": {},
   "outputs": [
    {
     "data": {
      "image/png": "[encoded data removed]",
      "text/plain": [
       "<Figure size 432x288 with 1 Axes>"
      ]
     },
     "metadata": {
      "needs_background": "light"
     },
     "output_type": "display_data"
    }
   ],
   "source": [
    "plt.plot(fitting.history['loss'])\n",
    "plt.grid('on')"
   ]
  },
  {
   "cell_type": "code",
   "execution_count": 10,
   "id": "13fb20d9",
   "metadata": {},
   "outputs": [
    {
     "name": "stdout",
     "output_type": "stream",
     "text": [
      "7/7 [==============================] - 0s 4ms/step\n",
      "1/1 [==============================] - 0s 135ms/step\n"
     ]
    }
   ],
   "source": [
    "# test the model\n",
    "test   = model.predict([test_reynolds])\n",
    "test50 = model.predict([50/reynolds_array.max()])"
   ]
  },
  {
   "cell_type": "code",
   "execution_count": 11,
   "id": "a4368c0c",
   "metadata": {},
   "outputs": [
    {
     "data": {
      "text/plain": [
       "(200, 11)"
      ]
     },
     "execution_count": 11,
     "metadata": {},
     "output_type": "execute_result"
    }
   ],
   "source": [
    "np.shape(test)"
   ]
  },
  {
   "cell_type": "code",
   "execution_count": 12,
   "id": "e23c3abc",
   "metadata": {},
   "outputs": [
    {
     "data": {
      "image/png": "[encoded data removed]",
      "text/plain": [
       "<Figure size 720x288 with 1 Axes>"
      ]
     },
     "metadata": {
      "needs_background": "light"
     },
     "output_type": "display_data"
    }
   ],
   "source": [
    "# plot\n",
    "fig, ax = plt.subplots(figsize=(10,4))\n",
    "\n",
    "ax.scatter(r,test[0]*profile_array.max(), label='train', color='orange')\n",
    "\n",
    "ax.set_xlabel('r [m]')\n",
    "ax.set_ylabel('u [m/s]')\n",
    "ax.legend()\n",
    "ax.grid()"
   ]
  },
  {
   "cell_type": "code",
   "execution_count": 13,
   "id": "07d20965",
   "metadata": {},
   "outputs": [],
   "source": [
    "# validation data set\n",
    "r_v = []\n",
    "for presion in np.linspace(0.5,1,100):\n",
    "    re, r, u = poiseuille(R=1,dpdx=-presion,nu=0.01,Nr=11,figure=False)\n",
    "    r_v.append([re])\n",
    "    \n",
    "# lists to array and scale\n",
    "r_array = np.array(r_v)\n",
    "r_validation = r_array/r_array.max()"
   ]
  },
  {
   "cell_type": "code",
   "execution_count": 14,
   "id": "9785b6d2",
   "metadata": {},
   "outputs": [
    {
     "name": "stdout",
     "output_type": "stream",
     "text": [
      "4/4 [==============================] - 0s 4ms/step\n"
     ]
    }
   ],
   "source": [
    "# test the model\n",
    "test_v = model.predict([r_validation])"
   ]
  },
  {
   "cell_type": "code",
   "execution_count": 16,
   "id": "08697d02",
   "metadata": {},
   "outputs": [
    {
     "data": {
      "image/png": "[encoded data removed]",
      "text/plain": [
       "<Figure size 720x288 with 1 Axes>"
      ]
     },
     "metadata": {
      "needs_background": "light"
     },
     "output_type": "display_data"
    }
   ],
   "source": [
    "# plot\n",
    "fig, ax = plt.subplots(figsize=(10,4))\n",
    "\n",
    "ax.scatter(r,test_v[99]*r_array.max(), label='validation', color='green')\n",
    "\n",
    "ax.set_xlabel('r [m]')\n",
    "ax.set_ylabel('u [m/s]')\n",
    "ax.legend()\n",
    "ax.grid()"
   ]
  },
  {
   "cell_type": "code",
   "execution_count": null,
   "id": "36cab518",
   "metadata": {},
   "outputs": [],
   "source": []
  }
 ],
 "metadata": {
  "kernelspec": {
   "display_name": "Python 3",
   "language": "python",
   "name": "python3"
  },
  "language_info": {
   "codemirror_mode": {
    "name": "ipython",
    "version": 3
   },
   "file_extension": ".py",
   "mimetype": "text/x-python",
   "name": "python",
   "nbconvert_exporter": "python",
   "pygments_lexer": "ipython3",
   "version": "3.9.4"
  }
 },
 "nbformat": 4,
 "nbformat_minor": 5
}
