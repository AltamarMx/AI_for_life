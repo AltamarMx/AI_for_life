{
 "cells": [
  {
   "cell_type": "code",
   "execution_count": 1,
   "id": "8e5270d8",
   "metadata": {},
   "outputs": [],
   "source": [
    "import numpy as np\n",
    "import matplotlib.pyplot as plt"
   ]
  },
  {
   "cell_type": "markdown",
   "id": "0a0550f2",
   "metadata": {},
   "source": [
    "Sabemos que:\n",
    "\n",
    "$$ x_{1}w_{1}+x_{2}w_{2}+...+bias=h $$\n",
    "\n",
    "$$ \\sigma = y = \\frac{1}{1+e^{-(x_{1}w_{1}+x_{2}w_{2}+...+bias)}} $$\n",
    "\n",
    "$$ C = (h-Y)^{2} $$\n",
    "\n",
    "$$ \\frac{dC}{dw} = 2y(y-Y)(1-y) $$"
   ]
  },
  {
   "cell_type": "code",
   "execution_count": 4,
   "id": "40ecb516",
   "metadata": {},
   "outputs": [],
   "source": [
    "def data(x,w,b):\n",
    "    return np.dot(x,w)+b\n",
    "    \n",
    "def sigmoide(z):\n",
    "    return (1)/(1+np.exp(-z))\n",
    "\n",
    "def cost(h,Y):\n",
    "    return (h-Y)**2\n",
    "\n",
    "def gradient(y,Y):\n",
    "    return 2*(y-Y)*y*(1-y)\n",
    "\n",
    "# Definción de funciones\n",
    "def data(x,w,b):\n",
    "    return np.dot(x,w)+b\n",
    "    \n",
    "def sigmoide(z):\n",
    "    return (1)/(1+np.exp(-z))\n",
    "\n",
    "def cost(h,Y):\n",
    "    return (h-Y)**2\n",
    "\n",
    "def gradient(y,Y):\n",
    "    return 2*(y-Y)*y*(1-y)\n",
    "\n",
    "# Definción de función que grafica y hace las iteraciones\n",
    "# de pocas variables\n",
    "def less_weights(x, w, b, epocs, LR, Y):    \n",
    "    costo   = []\n",
    "    results = []\n",
    "    \n",
    "    for i in range(epocs):\n",
    "        h = sigmoide(data(x,w,b))\n",
    "        c = cost(h,Y)\n",
    "        w = w - LR*gradient(h,Y)\n",
    "        costo.append(c)\n",
    "        results.append(h)\n",
    "        \n",
    "    print(h)\n",
    "    fig,ax = plt.subplots(2,figsize=(10,5))\n",
    "\n",
    "    ax[0].plot(costo, color='blue', label='Cost')\n",
    "    ax[0].set_title('Cost function of a perceptron', fontweight='bold',fontsize=15)\n",
    "    ax[0].set_ylabel('Cost', fontweight ='heavy', fontsize = 10)\n",
    "    ax[0].label_outer()\n",
    "    ax[0].legend()\n",
    "    ax[0].grid('on')\n",
    "    \n",
    "    ax[1].plot(results, color='green', label='Results')\n",
    "    ax[1].set_title('Results in function of the epocs', fontweight='bold',fontsize=15)\n",
    "    ax[1].set_xlabel('Epocs', fontweight ='heavy', fontsize = 10)\n",
    "    ax[1].set_ylabel('y', fontweight ='heavy', fontsize = 10)\n",
    "    ax[1].legend()\n",
    "    ax[1].grid('on')"
   ]
  },
  {
   "cell_type": "code",
   "execution_count": 5,
   "id": "3f13147d",
   "metadata": {},
   "outputs": [
    {
     "name": "stdout",
     "output_type": "stream",
     "text": [
      "0.7100000002878057\n"
     ]
    },
    {
     "data": {
      "image/png": "[encoded data removed]",
      "text/plain": [
       "<Figure size 720x360 with 2 Axes>"
      ]
     },
     "metadata": {
      "needs_background": "light"
     },
     "output_type": "display_data"
    }
   ],
   "source": [
    "less_weights(x=np.array([3,2]), w=np.array([0,1]), b=0, \n",
    "             epocs=500, LR=0.1, Y=0.71)"
   ]
  },
  {
   "cell_type": "code",
   "execution_count": null,
   "id": "362cc0a3",
   "metadata": {},
   "outputs": [],
   "source": []
  }
 ],
 "metadata": {
  "kernelspec": {
   "display_name": "Python 3",
   "language": "python",
   "name": "python3"
  },
  "language_info": {
   "codemirror_mode": {
    "name": "ipython",
    "version": 3
   },
   "file_extension": ".py",
   "mimetype": "text/x-python",
   "name": "python",
   "nbconvert_exporter": "python",
   "pygments_lexer": "ipython3",
   "version": "3.9.4"
  }
 },
 "nbformat": 4,
 "nbformat_minor": 5
}
