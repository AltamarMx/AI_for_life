{
 "cells": [
  {
   "cell_type": "code",
   "execution_count": 1,
   "id": "8e5270d8",
   "metadata": {},
   "outputs": [],
   "source": [
    "import numpy as np\n",
    "import matplotlib.pyplot as plt"
   ]
  },
  {
   "cell_type": "markdown",
   "id": "0a0550f2",
   "metadata": {},
   "source": [
    "Sabemos que:\n",
    "\n",
    "$$ x_{1}w_{1}+x_{2}w_{2}+...+bias=h $$"
   ]
  },
  {
   "cell_type": "code",
   "execution_count": 67,
   "id": "6565fc45",
   "metadata": {},
   "outputs": [],
   "source": [
    "x = np.array([3,2])\n",
    "w = np.array([0,0])\n",
    "b = 0"
   ]
  },
  {
   "cell_type": "code",
   "execution_count": 68,
   "id": "40ecb516",
   "metadata": {},
   "outputs": [],
   "source": [
    "def data(x,w,b):\n",
    "    return np.dot(x,w)+b\n",
    "    \n",
    "def sigmoide(z):\n",
    "    return (1)/(1+np.exp(-z))\n",
    "\n",
    "def cost(h,Y):\n",
    "    return (h-Y)**2\n",
    "\n",
    "def gradient(y,Y):\n",
    "    return 2*(y-Y)*y*(1-y)"
   ]
  },
  {
   "cell_type": "code",
   "execution_count": 73,
   "id": "3f13147d",
   "metadata": {},
   "outputs": [],
   "source": [
    "epocs = 100\n",
    "LR    = 0.1\n",
    "Y     = 0.71\n",
    "costo   = []\n",
    "results = []\n",
    "\n",
    "for i in range(epocs):\n",
    "    h = sigmoide(data(x,w,b))\n",
    "    c = cost(h,Y)\n",
    "    g = gradient(h,Y)\n",
    "    \n",
    "    h = h - LR*g\n",
    "    costo.append(c)\n",
    "    results.append(h)"
   ]
  },
  {
   "cell_type": "code",
   "execution_count": 75,
   "id": "2c88ba59",
   "metadata": {},
   "outputs": [
    {
     "data": {
      "text/plain": [
       "[<matplotlib.lines.Line2D at 0x249339e1a90>]"
      ]
     },
     "execution_count": 75,
     "metadata": {},
     "output_type": "execute_result"
    },
    {
     "data": {
      "image/png": "[encoded data removed]",
      "text/plain": [
       "<Figure size 432x288 with 1 Axes>"
      ]
     },
     "metadata": {
      "needs_background": "light"
     },
     "output_type": "display_data"
    }
   ],
   "source": [
    "plt.plot(costo)"
   ]
  },
  {
   "cell_type": "code",
   "execution_count": null,
   "id": "362cc0a3",
   "metadata": {},
   "outputs": [],
   "source": []
  }
 ],
 "metadata": {
  "kernelspec": {
   "display_name": "Python 3",
   "language": "python",
   "name": "python3"
  },
  "language_info": {
   "codemirror_mode": {
    "name": "ipython",
    "version": 3
   },
   "file_extension": ".py",
   "mimetype": "text/x-python",
   "name": "python",
   "nbconvert_exporter": "python",
   "pygments_lexer": "ipython3",
   "version": "3.9.4"
  }
 },
 "nbformat": 4,
 "nbformat_minor": 5
}
