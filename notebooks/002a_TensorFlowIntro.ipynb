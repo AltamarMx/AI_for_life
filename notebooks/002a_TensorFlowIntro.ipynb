{
 "cells": [
  {
   "cell_type": "code",
   "execution_count": 1,
   "id": "de0be30c",
   "metadata": {},
   "outputs": [],
   "source": [
    "import tensorflow as tf\n",
    "from tensorflow import keras"
   ]
  },
  {
   "cell_type": "code",
   "execution_count": 2,
   "id": "c9a5dcaf",
   "metadata": {
    "scrolled": true
   },
   "outputs": [
    {
     "name": "stdout",
     "output_type": "stream",
     "text": [
      "Model: \"model\"\n",
      "_________________________________________________________________\n",
      " Layer (type)                Output Shape              Param #   \n",
      "=================================================================\n",
      " input (InputLayer)          [(None, 2)]               0         \n",
      "                                                                 \n",
      " hidden (Dense)              (None, 1)                 3         \n",
      "                                                                 \n",
      " output (Dense)              (None, 1)                 2         \n",
      "                                                                 \n",
      "=================================================================\n",
      "Total params: 5\n",
      "Trainable params: 5\n",
      "Non-trainable params: 0\n",
      "_________________________________________________________________\n"
     ]
    }
   ],
   "source": [
    "# creating layers\n",
    "inputs = tf.keras.Input(shape=(2,), name='input')\n",
    "hidden = tf.keras.layers.Dense(1, activation='sigmoid', name='hidden')(inputs)\n",
    "output = tf.keras.layers.Dense(1, activation='sigmoid', name='output')(hidden)\n",
    "# creating the model\n",
    "model  = keras.Model(inputs, output, name='model')\n",
    "model.summary()"
   ]
  },
  {
   "cell_type": "code",
   "execution_count": 18,
   "id": "47d6b8cb",
   "metadata": {},
   "outputs": [
    {
     "name": "stdout",
     "output_type": "stream",
     "text": [
      "Epoch 1/15\n",
      "1/1 [==============================] - 1s 660ms/step - loss: 5.9406e-05 - mae: 0.0077\n",
      "Epoch 2/15\n",
      "1/1 [==============================] - 0s 13ms/step - loss: 6.1013e-06 - mae: 0.0025\n",
      "Epoch 3/15\n",
      "1/1 [==============================] - 0s 12ms/step - loss: 4.0097e-06 - mae: 0.0020\n",
      "Epoch 4/15\n",
      "1/1 [==============================] - 0s 13ms/step - loss: 2.0803e-05 - mae: 0.0046\n",
      "Epoch 5/15\n",
      "1/1 [==============================] - 0s 11ms/step - loss: 2.5034e-05 - mae: 0.0050\n",
      "Epoch 6/15\n",
      "1/1 [==============================] - 0s 14ms/step - loss: 1.6441e-05 - mae: 0.0041\n",
      "Epoch 7/15\n",
      "1/1 [==============================] - 0s 15ms/step - loss: 5.5201e-06 - mae: 0.0023\n",
      "Epoch 8/15\n",
      "1/1 [==============================] - 0s 10ms/step - loss: 1.3189e-07 - mae: 3.6317e-04\n",
      "Epoch 9/15\n",
      "1/1 [==============================] - 0s 11ms/step - loss: 2.1738e-06 - mae: 0.0015\n",
      "Epoch 10/15\n",
      "1/1 [==============================] - 0s 12ms/step - loss: 7.7295e-06 - mae: 0.0028\n",
      "Epoch 11/15\n",
      "1/1 [==============================] - 0s 10ms/step - loss: 1.1118e-05 - mae: 0.0033\n",
      "Epoch 12/15\n",
      "1/1 [==============================] - 0s 12ms/step - loss: 9.8710e-06 - mae: 0.0031\n",
      "Epoch 13/15\n",
      "1/1 [==============================] - 0s 13ms/step - loss: 5.5805e-06 - mae: 0.0024\n",
      "Epoch 14/15\n",
      "1/1 [==============================] - 0s 13ms/step - loss: 1.4916e-06 - mae: 0.0012\n",
      "Epoch 15/15\n",
      "1/1 [==============================] - 0s 12ms/step - loss: 1.1665e-09 - mae: 3.4153e-05\n"
     ]
    },
    {
     "data": {
      "text/plain": [
       "<keras.callbacks.History at 0x2718b9b13a0>"
      ]
     },
     "execution_count": 18,
     "metadata": {},
     "output_type": "execute_result"
    }
   ],
   "source": [
    "# compiling the model\n",
    "optimizer = tf.keras.optimizers.Adam(learning_rate=1e-2)\n",
    "loss      = tf.keras.losses.MeanSquaredError()\n",
    "model.compile(optimizer, loss, metrics=['mae'])\n",
    "model.fit([[1,2]], [0.71],epochs=15, verbose=1)"
   ]
  },
  {
   "cell_type": "code",
   "execution_count": null,
   "id": "57e18da9",
   "metadata": {},
   "outputs": [],
   "source": []
  }
 ],
 "metadata": {
  "kernelspec": {
   "display_name": "Python 3",
   "language": "python",
   "name": "python3"
  },
  "language_info": {
   "codemirror_mode": {
    "name": "ipython",
    "version": 3
   },
   "file_extension": ".py",
   "mimetype": "text/x-python",
   "name": "python",
   "nbconvert_exporter": "python",
   "pygments_lexer": "ipython3",
   "version": "3.9.4"
  }
 },
 "nbformat": 4,
 "nbformat_minor": 5
}
