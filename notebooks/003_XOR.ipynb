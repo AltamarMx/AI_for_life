{
 "cells": [
  {
   "cell_type": "code",
   "execution_count": 1,
   "id": "3000e4a0",
   "metadata": {},
   "outputs": [],
   "source": [
    "import tensorflow as tf\n",
    "from tensorflow import keras\n",
    "from tqdm.keras import TqdmCallback"
   ]
  },
  {
   "attachments": {
    "image-3.png": {
     "image/png": "[encoded data removed]"
    }
   },
   "cell_type": "markdown",
   "id": "649229af",
   "metadata": {},
   "source": [
    "![image-3.png](attachment:image-3.png)"
   ]
  },
  {
   "cell_type": "code",
   "execution_count": 2,
   "id": "61b589a5",
   "metadata": {},
   "outputs": [],
   "source": [
    "X = [[0,0],[0,1],[1,0],[1,1]]\n",
    "Y = [[0],[1],[1],[0]]"
   ]
  },
  {
   "cell_type": "code",
   "execution_count": 25,
   "id": "d8de616a",
   "metadata": {
    "scrolled": false
   },
   "outputs": [
    {
     "name": "stdout",
     "output_type": "stream",
     "text": [
      "Model: \"model\"\n",
      "_________________________________________________________________\n",
      " Layer (type)                Output Shape              Param #   \n",
      "=================================================================\n",
      " input (InputLayer)          [(None, 2)]               0         \n",
      "                                                                 \n",
      " hidden1 (Dense)             (None, 2)                 6         \n",
      "                                                                 \n",
      " hidden2 (Dense)             (None, 2)                 6         \n",
      "                                                                 \n",
      " output (Dense)              (None, 1)                 3         \n",
      "                                                                 \n",
      "=================================================================\n",
      "Total params: 15\n",
      "Trainable params: 15\n",
      "Non-trainable params: 0\n",
      "_________________________________________________________________\n"
     ]
    }
   ],
   "source": [
    "# creating layers\n",
    "inputs = tf.keras.Input(shape=(2,), name='input')\n",
    "hidden1 = tf.keras.layers.Dense(2, activation='relu', name='hidden1')(inputs)\n",
    "hidden2 = tf.keras.layers.Dense(2, activation='relu', name='hidden2')(hidden1)\n",
    "output = tf.keras.layers.Dense(1, name='output')(hidden2)\n",
    "# creating the model\n",
    "model  = keras.Model(inputs, output, name='model')\n",
    "\n",
    "model.summary()"
   ]
  },
  {
   "cell_type": "code",
   "execution_count": 26,
   "id": "be508cbf",
   "metadata": {},
   "outputs": [
    {
     "data": {
      "application/vnd.jupyter.widget-view+json": {
       "model_id": "200074c3599441b38c19454b49bdb33f",
       "version_major": 2,
       "version_minor": 0
      },
      "text/plain": [
       "HBox(children=(HTML(value=''), FloatProgress(value=1.0, bar_style='info', layout=Layout(width='20px'), max=1.0…"
      ]
     },
     "metadata": {},
     "output_type": "display_data"
    },
    {
     "data": {
      "application/vnd.jupyter.widget-view+json": {
       "model_id": "",
       "version_major": 2,
       "version_minor": 0
      },
      "text/plain": [
       "HBox(children=(HTML(value=''), FloatProgress(value=1.0, bar_style='info', layout=Layout(width='20px'), max=1.0…"
      ]
     },
     "metadata": {},
     "output_type": "display_data"
    },
    {
     "name": "stdout",
     "output_type": "stream",
     "text": [
      "\n"
     ]
    },
    {
     "data": {
      "text/plain": [
       "<keras.callbacks.History at 0x7fd754bf89a0>"
      ]
     },
     "execution_count": 26,
     "metadata": {},
     "output_type": "execute_result"
    }
   ],
   "source": [
    "# compiling the model\n",
    "optimizer = tf.keras.optimizers.Nadam(learning_rate=0.1)\n",
    "loss      = tf.keras.losses.MeanSquaredError()\n",
    "model.compile(optimizer, loss, metrics=['mae'])\n",
    "model.fit(X, Y, epochs=500, verbose=0, callbacks=[TqdmCallback(verbose=1)])\n",
    "# model.predict([[1,2]])"
   ]
  },
  {
   "cell_type": "code",
   "execution_count": 27,
   "id": "2b3c391a",
   "metadata": {},
   "outputs": [
    {
     "name": "stdout",
     "output_type": "stream",
     "text": [
      "1/1 [==============================] - 0s 59ms/step\n",
      "[0, 0] [[0.]] [0]\n",
      "1/1 [==============================] - 0s 32ms/step\n",
      "[0, 1] [[1.]] [1]\n",
      "1/1 [==============================] - 0s 33ms/step\n",
      "[1, 0] [[0.]] [1]\n",
      "1/1 [==============================] - 0s 32ms/step\n",
      "[1, 1] [[0.]] [0]\n"
     ]
    }
   ],
   "source": [
    "for i,x in enumerate(X):\n",
    "    print(x,model.predict([x]).round(),Y[i])"
   ]
  },
  {
   "cell_type": "markdown",
   "id": "69e65601",
   "metadata": {},
   "source": [
    "### Por qu'e la sigmoide no funciona y la relu si para el problema XOR ? "
   ]
  }
 ],
 "metadata": {
  "kernelspec": {
   "display_name": "Python 3",
   "language": "python",
   "name": "python3"
  },
  "language_info": {
   "codemirror_mode": {
    "name": "ipython",
    "version": 3
   },
   "file_extension": ".py",
   "mimetype": "text/x-python",
   "name": "python",
   "nbconvert_exporter": "python",
   "pygments_lexer": "ipython3",
   "version": "3.9.4"
  }
 },
 "nbformat": 4,
 "nbformat_minor": 5
}
