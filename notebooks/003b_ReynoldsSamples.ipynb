{
 "cells": [
  {
   "cell_type": "code",
   "execution_count": null,
   "id": "6de7aefb",
   "metadata": {},
   "outputs": [],
   "source": [
    "import tensorflow as tf\n",
    "from tensorflow import keras\n",
    "from tqdm.keras import TqdmCallback\n",
    "import numpy as np\n",
    "import matplotlib.pyplot as plt"
   ]
  },
  {
   "cell_type": "code",
   "execution_count": null,
   "id": "43ff7837",
   "metadata": {},
   "outputs": [],
   "source": [
    "def poiseuille(R=1,dpdx=-0.01,nu=0.01,Nr=100,figure=True):\n",
    "  \n",
    "    r = np.linspace(-R,R,Nr)\n",
    "    u = -1/4/nu *dpdx*(R**2-r**2)\n",
    "    if figure:\n",
    "        fig, ax = plt.subplots(figsize=(10,4))\n",
    "        ax.scatter(r,u)\n",
    "        ax.set_ylabel(\"u [m/s]\")\n",
    "        ax.set_xlabel(\"r [m]\")\n",
    "    umax = -1/4/nu*dpdx*R*R\n",
    "    Re = umax*2*R/nu\n",
    "    return Re,r,u"
   ]
  },
  {
   "cell_type": "code",
   "execution_count": null,
   "id": "fd0bf068",
   "metadata": {
    "scrolled": true
   },
   "outputs": [],
   "source": [
    "Re, r, u = poiseuille(R=1,dpdx=-0.01,nu=0.01,Nr=11,figure=True)"
   ]
  },
  {
   "cell_type": "code",
   "execution_count": null,
   "id": "27094dce",
   "metadata": {},
   "outputs": [],
   "source": [
    "# making the samples\n",
    "rey   = []\n",
    "perf  = []\n",
    "for Reynolds in np.linspace(-0.99,0.99,10):\n",
    "    re, r, u = poiseuille(R=Reynolds,dpdx=-0.01,nu=0.01,Nr=11,figure=False)\n",
    "    rey.append([re])\n",
    "    perf.append(u)\n",
    "# lists to array and scale\n",
    "rn = (np.array(rey))\n",
    "reynolds = rn/rn.max()\n",
    "pro  = np.array(perf)\n",
    "profile = pro/pro.max()"
   ]
  },
  {
   "cell_type": "code",
   "execution_count": null,
   "id": "462e5bfb",
   "metadata": {
    "scrolled": true
   },
   "outputs": [],
   "source": [
    "reynolds"
   ]
  },
  {
   "cell_type": "code",
   "execution_count": null,
   "id": "e1af4331",
   "metadata": {},
   "outputs": [],
   "source": [
    "profile"
   ]
  },
  {
   "cell_type": "code",
   "execution_count": null,
   "id": "e1a988b1",
   "metadata": {},
   "outputs": [],
   "source": [
    "# creating layers\n",
    "inputs = tf.keras.Input(shape=1, name='input')\n",
    "hidden = tf.keras.layers.Dense(16, activation='relu', name='hidden_1')(inputs)\n",
    "output = tf.keras.layers.Dense(11, name='output')(hidden)\n",
    "# creating the model\n",
    "model  = keras.Model(inputs, output, name='model')\n",
    "# printing\n",
    "model.summary()"
   ]
  },
  {
   "cell_type": "code",
   "execution_count": null,
   "id": "3a76bdae",
   "metadata": {},
   "outputs": [],
   "source": [
    "# compiling the model\n",
    "optimizer = tf.keras.optimizers.Nadam(learning_rate=0.1)\n",
    "loss      = tf.keras.losses.MeanSquaredError()\n",
    "model.compile(optimizer, loss, metrics=['mae'])\n",
    "model.fit(reynolds, profile, epochs=15, verbose=0, callbacks=[TqdmCallback(verbose=1)])"
   ]
  },
  {
   "cell_type": "code",
   "execution_count": null,
   "id": "6fc52ab2",
   "metadata": {},
   "outputs": [],
   "source": []
  }
 ],
 "metadata": {
  "kernelspec": {
   "display_name": "Python 3",
   "language": "python",
   "name": "python3"
  },
  "language_info": {
   "codemirror_mode": {
    "name": "ipython",
    "version": 3
   },
   "file_extension": ".py",
   "mimetype": "text/x-python",
   "name": "python",
   "nbconvert_exporter": "python",
   "pygments_lexer": "ipython3",
   "version": "3.9.4"
  }
 },
 "nbformat": 4,
 "nbformat_minor": 5
}
