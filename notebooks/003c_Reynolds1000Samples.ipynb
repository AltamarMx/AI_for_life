{
 "cells": [
  {
   "cell_type": "code",
   "execution_count": 1,
   "id": "6de7aefb",
   "metadata": {},
   "outputs": [],
   "source": [
    "import tensorflow as tf\n",
    "from tensorflow import keras\n",
    "from tqdm.keras import TqdmCallback\n",
    "import numpy as np\n",
    "import matplotlib.pyplot as plt"
   ]
  },
  {
   "cell_type": "code",
   "execution_count": 2,
   "id": "43ff7837",
   "metadata": {},
   "outputs": [],
   "source": [
    "def poiseuille(R=1,dpdx=-0.01,nu=0.01,Nr=100,figure=True):\n",
    "  \n",
    "    r = np.linspace(-R,R,Nr)\n",
    "    u = -1/4/nu *dpdx*(R**2-r**2)\n",
    "    if figure:\n",
    "        fig, ax = plt.subplots(figsize=(10,4))\n",
    "        ax.scatter(r,u)\n",
    "        ax.set_ylabel(\"u [m/s]\")\n",
    "        ax.set_xlabel(\"r [m]\")\n",
    "    umax = -1/4/nu*dpdx*R*R\n",
    "    Re = umax*2*R/nu\n",
    "    return Re,r,u"
   ]
  },
  {
   "cell_type": "code",
   "execution_count": 3,
   "id": "fd0bf068",
   "metadata": {
    "scrolled": false
   },
   "outputs": [
    {
     "data": {
      "image/png": "[encoded data removed]",
      "text/plain": [
       "<Figure size 720x288 with 1 Axes>"
      ]
     },
     "metadata": {
      "needs_background": "light"
     },
     "output_type": "display_data"
    }
   ],
   "source": [
    "Re, r, u = poiseuille(R=1,dpdx=-0.01,nu=0.01,Nr=11,figure=True)"
   ]
  },
  {
   "cell_type": "code",
   "execution_count": 4,
   "id": "fc34ac8a",
   "metadata": {},
   "outputs": [
    {
     "data": {
      "text/plain": [
       "50.0"
      ]
     },
     "execution_count": 4,
     "metadata": {},
     "output_type": "execute_result"
    }
   ],
   "source": [
    "Re"
   ]
  },
  {
   "cell_type": "code",
   "execution_count": 12,
   "id": "27094dce",
   "metadata": {},
   "outputs": [],
   "source": [
    "# making the samples\n",
    "rey   = []\n",
    "perf  = []\n",
    "rp    = []\n",
    "for Reynolds in np.linspace(-0.99,0.99,1000):\n",
    "    re, r, u = poiseuille(R=Reynolds,dpdx=-0.01,nu=0.01,Nr=11,figure=False)\n",
    "    rey.append([re])\n",
    "    perf.append(u)\n",
    "    rp.append(r)\n",
    "# lists to array and scale\n",
    "reynolds_array = np.array(rey)\n",
    "reynolds_scale = reynolds_array/reynolds_array.max()\n",
    "profile_array  = np.array(perf)\n",
    "profile_scale  = profile_array/profile_array.max()\n",
    "# split test and train arrays\n",
    "reynolds_test, reynolds_train = np.split(reynolds_scale, 2)\n",
    "profile_test, profile_train   = np.split(profile_scale, 2)"
   ]
  },
  {
   "cell_type": "code",
   "execution_count": 13,
   "id": "462e5bfb",
   "metadata": {
    "scrolled": true
   },
   "outputs": [
    {
     "data": {
      "text/plain": [
       "(1000, 1)"
      ]
     },
     "execution_count": 13,
     "metadata": {},
     "output_type": "execute_result"
    }
   ],
   "source": [
    "np.shape(reynolds_scale)"
   ]
  },
  {
   "cell_type": "code",
   "execution_count": 14,
   "id": "e1af4331",
   "metadata": {
    "scrolled": true
   },
   "outputs": [
    {
     "data": {
      "text/plain": [
       "(1000, 11)"
      ]
     },
     "execution_count": 14,
     "metadata": {},
     "output_type": "execute_result"
    }
   ],
   "source": [
    "np.shape(profile_scale)"
   ]
  },
  {
   "cell_type": "code",
   "execution_count": 18,
   "id": "e1a988b1",
   "metadata": {},
   "outputs": [
    {
     "name": "stdout",
     "output_type": "stream",
     "text": [
      "Model: \"model\"\n",
      "_________________________________________________________________\n",
      " Layer (type)                Output Shape              Param #   \n",
      "=================================================================\n",
      " input (InputLayer)          [(None, 1)]               0         \n",
      "                                                                 \n",
      " hidden_1 (Dense)            (None, 20)                40        \n",
      "                                                                 \n",
      " output (Dense)              (None, 11)                231       \n",
      "                                                                 \n",
      "=================================================================\n",
      "Total params: 271\n",
      "Trainable params: 271\n",
      "Non-trainable params: 0\n",
      "_________________________________________________________________\n"
     ]
    }
   ],
   "source": [
    "# creating layers\n",
    "inputs = tf.keras.Input(shape=1, name='input')\n",
    "hidden = tf.keras.layers.Dense(20, activation='relu', name='hidden_1')(inputs)\n",
    "output = tf.keras.layers.Dense(11, name='output')(hidden)\n",
    "# creating the model\n",
    "model  = keras.Model(inputs, output, name='model')\n",
    "# printing\n",
    "model.summary()"
   ]
  },
  {
   "cell_type": "code",
   "execution_count": 19,
   "id": "3a76bdae",
   "metadata": {},
   "outputs": [
    {
     "data": {
      "application/vnd.jupyter.widget-view+json": {
       "model_id": "320e7255a2cb4f64b31a1a61dcd06689",
       "version_major": 2,
       "version_minor": 0
      },
      "text/plain": [
       "0epoch [00:00, ?epoch/s]"
      ]
     },
     "metadata": {},
     "output_type": "display_data"
    },
    {
     "data": {
      "application/vnd.jupyter.widget-view+json": {
       "model_id": "",
       "version_major": 2,
       "version_minor": 0
      },
      "text/plain": [
       "0batch [00:00, ?batch/s]"
      ]
     },
     "metadata": {},
     "output_type": "display_data"
    }
   ],
   "source": [
    "# compiling the model\n",
    "optimizer = tf.keras.optimizers.Nadam(learning_rate=0.01)\n",
    "loss      = tf.keras.losses.MeanSquaredError()\n",
    "model.compile(optimizer, loss, metrics=['mae'])\n",
    "fitting = model.fit(reynolds_train, profile_train, epochs=160, verbose=0, \n",
    "                    callbacks=[TqdmCallback(verbose=1)])"
   ]
  },
  {
   "cell_type": "code",
   "execution_count": 20,
   "id": "6fc52ab2",
   "metadata": {},
   "outputs": [
    {
     "data": {
      "text/plain": [
       "[<matplotlib.lines.Line2D at 0x23efc5fe640>]"
      ]
     },
     "execution_count": 20,
     "metadata": {},
     "output_type": "execute_result"
    },
    {
     "data": {
      "image/png": "[encoded data removed]",
      "text/plain": [
       "<Figure size 432x288 with 1 Axes>"
      ]
     },
     "metadata": {
      "needs_background": "light"
     },
     "output_type": "display_data"
    }
   ],
   "source": [
    "plt.plot(fitting.history['loss'])"
   ]
  },
  {
   "cell_type": "code",
   "execution_count": 23,
   "id": "13fb20d9",
   "metadata": {},
   "outputs": [
    {
     "name": "stdout",
     "output_type": "stream",
     "text": [
      "16/16 [==============================] - 0s 2ms/step\n"
     ]
    }
   ],
   "source": [
    "# test the model with the originla Reynolds, Re=50.0\n",
    "test = model.predict([reynolds_test])"
   ]
  },
  {
   "cell_type": "code",
   "execution_count": 34,
   "id": "8b253f91",
   "metadata": {},
   "outputs": [
    {
     "data": {
      "image/png": "[encoded data removed]",
      "text/plain": [
       "<Figure size 720x288 with 1 Axes>"
      ]
     },
     "metadata": {
      "needs_background": "light"
     },
     "output_type": "display_data"
    }
   ],
   "source": [
    "# plot\n",
    "fig, ax = plt.subplots(figsize=(10,4))\n",
    "\n",
    "#ax.plot(r,u, label='orginal')\n",
    "ax.scatter(r,test[499]*profile_array.max(), label='train', color='orange')\n",
    "\n",
    "ax.set_xlabel('r')\n",
    "ax.set_ylabel('u')\n",
    "ax.legend()\n",
    "ax.grid()"
   ]
  },
  {
   "cell_type": "code",
   "execution_count": null,
   "id": "e23c3abc",
   "metadata": {},
   "outputs": [],
   "source": []
  }
 ],
 "metadata": {
  "kernelspec": {
   "display_name": "Python 3",
   "language": "python",
   "name": "python3"
  },
  "language_info": {
   "codemirror_mode": {
    "name": "ipython",
    "version": 3
   },
   "file_extension": ".py",
   "mimetype": "text/x-python",
   "name": "python",
   "nbconvert_exporter": "python",
   "pygments_lexer": "ipython3",
   "version": "3.9.4"
  }
 },
 "nbformat": 4,
 "nbformat_minor": 5
}
